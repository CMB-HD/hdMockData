{
 "cells": [
  {
   "cell_type": "markdown",
   "id": "41906ee3-9008-4496-afa7-390165d64984",
   "metadata": {},
   "source": [
    "# CMB-HD Forecasting Data\n",
    "\n",
    "This notebook serves as an example of how to load in the CMB-HD data contained in this repository.\n",
    "\n",
    "Latest version: `v1.1`"
   ]
  },
  {
   "cell_type": "code",
   "execution_count": 1,
   "id": "a768a94d-4e96-4918-a85a-663839fd0837",
   "metadata": {},
   "outputs": [],
   "source": [
    "from hd_mock_data import hd_data"
   ]
  },
  {
   "cell_type": "markdown",
   "id": "df78fda2-ae02-45d8-b258-1b5ee8989f8d",
   "metadata": {},
   "source": [
    "## Using the most recent data"
   ]
  },
  {
   "cell_type": "markdown",
   "id": "eb2be6f5-25da-4bd9-a242-db05b32cf828",
   "metadata": {},
   "source": [
    "The CMB-HD data is accessed using the `hdMockData` class in `hd_data.py`. The `hdMockData` class takes in a single variable, the `version`, which is set to `version = 'latest'` by default. This is what we will use below:"
   ]
  },
  {
   "cell_type": "code",
   "execution_count": 2,
   "id": "7de79ba6-2cc5-457d-bc01-c10f6cb0cd7a",
   "metadata": {},
   "outputs": [],
   "source": [
    "datalib = hd_data.HDMockData()"
   ]
  },
  {
   "cell_type": "markdown",
   "id": "506005d4-d2f3-4932-a69e-d0d155363de0",
   "metadata": {},
   "source": [
    "The minimum and maximum multipoles are stored as attributes of the class:"
   ]
  },
  {
   "cell_type": "code",
   "execution_count": 3,
   "id": "f7dc69d9-241d-45a1-909e-1db8088abb5c",
   "metadata": {},
   "outputs": [
    {
     "name": "stdout",
     "output_type": "stream",
     "text": [
      "lmin for TT, TE, EE, BB: 30\n",
      "lmax for TT: 40000\n",
      "lmax for TE, EE, BB: 20100\n",
      "(Lmin, Lmax) for lensing: (30, 20100)\n"
     ]
    }
   ],
   "source": [
    "print(f'lmin for TT, TE, EE, BB: {datalib.lmin}')\n",
    "print(f'lmax for TT: {datalib.lmaxTT}')\n",
    "print(f'lmax for TE, EE, BB: {datalib.lmax}')\n",
    "print(f'(Lmin, Lmax) for lensing: ({datalib.Lmin}, {datalib.Lmax})')"
   ]
  },
  {
   "cell_type": "markdown",
   "id": "8863c571-c9e8-4843-bf16-1d6c15701e40",
   "metadata": {},
   "source": [
    "## Binning"
   ]
  },
  {
   "cell_type": "markdown",
   "id": "c37758a0-4264-465d-b6e3-a3232358e084",
   "metadata": {},
   "source": [
    "### Load the binning file\n",
    "\n",
    "The `bin_edges` method returns a 1D array holding the bin edges:"
   ]
  },
  {
   "cell_type": "code",
   "execution_count": 4,
   "id": "95684f42-e782-4466-855b-31f3b9c1b10f",
   "metadata": {},
   "outputs": [
    {
     "name": "stdout",
     "output_type": "stream",
     "text": [
      "(171,)\n"
     ]
    }
   ],
   "source": [
    "bin_edges = datalib.bin_edges()\n",
    "print(bin_edges.shape)"
   ]
  },
  {
   "cell_type": "markdown",
   "id": "a4fd5341-45ea-4abb-9069-8112cd7863a6",
   "metadata": {},
   "source": [
    "### Getting a binning matrix\n",
    "\n",
    "The `binning_matrix` method takes in two optional integer arguments, `lmin` and `lmax`. By default, these are set to the `lmin` and `lmaxTT` values printed out above."
   ]
  },
  {
   "cell_type": "code",
   "execution_count": 5,
   "id": "11202f56-5fc5-4133-8dc4-12d116edf8b8",
   "metadata": {},
   "outputs": [
    {
     "name": "stdout",
     "output_type": "stream",
     "text": [
      "(103, 20099)\n"
     ]
    }
   ],
   "source": [
    "binning_matrix = datalib.binning_matrix()\n",
    "print(binning_matrix.shape)"
   ]
  },
  {
   "cell_type": "code",
   "execution_count": 6,
   "id": "31216461-09df-45a6-a4ec-c64ebd3f09dc",
   "metadata": {},
   "outputs": [
    {
     "name": "stdout",
     "output_type": "stream",
     "text": [
      "(52, 4999)\n"
     ]
    }
   ],
   "source": [
    "binning_matrix_lmax5000 = datalib.binning_matrix(lmax=5000)\n",
    "print(binning_matrix_lmax5000.shape)"
   ]
  },
  {
   "cell_type": "markdown",
   "id": "66feebc1-0ed9-412f-923a-d52b7132be74",
   "metadata": {},
   "source": [
    "## CMB-HD lensed or delensed $TT$, $TE$, $EE$, $BB$, and lensing $\\kappa\\kappa$ power spectra\n",
    "\n",
    "The `cmb_theory_spectra` method takes in three arguments:\n",
    "1. `cmb_type`: either `'lensed'` or `'delensed'`\n",
    "2. `baryonic_feedback` (optional, default=`False`): `True` to include the effects of baryonic feedback, or `False` otherwise\n",
    "3. `output_lmax` (optional, default=`None`): passing an integer value to `output_lmax` will return the spectra only up to that multipole, otherwise all multipoles are returned.\n",
    "\n",
    "It returns a dictionary with the following keys and values:\n",
    "- `'ells'`: holds a 1D array of the multipoles for the spectra\n",
    "- `'tt'`, `'te'`, `'ee'`, `'bb'`: 1D arrays of lensed or delensed CMB power spectra\n",
    "- `'kk'`: 1D array holding the CMB lensing power spectrum\n",
    "\n",
    "The spectra are unbinned, starting at $\\ell = 0$. The CMB spectra are in $C_\\ell$'s, i.e. without any $\\ell(\\ell+1)/2\\pi$ factors applied, in units of $\\mu$K$^2$. The CMB lensing power spectrum uses the convention $C_L^{\\kappa\\kappa} = [L(L+1)]^2 C_L^{\\phi\\phi} / 4$. \n",
    "- These conventions apply to all spectra (e.g. noise, foregrounds) that are returned by methods of the `HDMockData` class.\n"
   ]
  },
  {
   "cell_type": "code",
   "execution_count": 7,
   "id": "914a17bb-ae86-4ee3-a7ac-7fde3f5b1cd0",
   "metadata": {},
   "outputs": [
    {
     "name": "stdout",
     "output_type": "stream",
     "text": [
      "dict_keys(['ells', 'tt', 'te', 'ee', 'bb', 'kk'])\n",
      "(40001,)\n",
      "[0.0000e+00 1.0000e+00 2.0000e+00 ... 3.9998e+04 3.9999e+04 4.0000e+04]\n"
     ]
    }
   ],
   "source": [
    "delensed_theo = datalib.cmb_theory_spectra('delensed')\n",
    "print(delensed_theo.keys())\n",
    "print(delensed_theo['tt'].shape)\n",
    "print(delensed_theo['ells'])"
   ]
  },
  {
   "cell_type": "code",
   "execution_count": 8,
   "id": "ffe8f53d-a0e7-43d1-84a9-921f2bd880b0",
   "metadata": {},
   "outputs": [
    {
     "name": "stdout",
     "output_type": "stream",
     "text": [
      "(5001,)\n",
      "[0.000e+00 1.000e+00 2.000e+00 ... 4.998e+03 4.999e+03 5.000e+03]\n"
     ]
    }
   ],
   "source": [
    "delensed_theo_lmax5000 = datalib.cmb_theory_spectra('delensed', output_lmax=5000)\n",
    "print(delensed_theo_lmax5000['tt'].shape)\n",
    "print(delensed_theo_lmax5000['ells'])"
   ]
  },
  {
   "cell_type": "markdown",
   "id": "a3fb389e-2fba-4b37-9c0c-122e933e406d",
   "metadata": {},
   "source": [
    "## Residual extragalactic foreground power spectra"
   ]
  },
  {
   "cell_type": "markdown",
   "id": "6159e97d-2203-47da-9c50-07d27c41afbd",
   "metadata": {},
   "source": [
    "### Individual foreground components at each frequency\n",
    "\n",
    "We have residual extragalactic foreground spectra at 90 and 150 GHz for the tSZ and kSZ effects, the CIB, and radio sources.\n",
    "\n",
    "The `fg_spectra` method takes in two arguments:\n",
    "1. `freq`: the frequency, either `'f090'` for 90 GHz or `'f150'` for 150 GHz.\n",
    "2. `output_lmax` (optional, default=`None`) : passing an integer value to `output_lmax` will return the spectra only up to that multipole, otherwise all multipoles are returned.\n",
    "\n",
    "It returns a dictionary with a key `'ells'` holding a 1D array of the multipoles, and keys `'tsz'`, `'ksz'`, `'cib'`, and `'radio'`. The spectra are unbinned starting at $\\ell = 0$ and are in $C_\\ell$'s, i.e. without any $\\ell(\\ell+1)/2\\pi$ factors applied, with units of $\\mu$K$^2$.\n",
    "- Note: in version `v1.0`, the kSZ only included the reionization component. In later versions, it includes both reionization and late-time contributions."
   ]
  },
  {
   "cell_type": "code",
   "execution_count": 9,
   "id": "efaf9ad0-c409-497d-8b1b-2343496ea26a",
   "metadata": {},
   "outputs": [
    {
     "name": "stdout",
     "output_type": "stream",
     "text": [
      "dict_keys(['ells', 'ksz', 'tsz', 'cib', 'radio'])\n",
      "[0.e+00 1.e+00 2.e+00 ... 3.e+04 3.e+04 3.e+04]\n"
     ]
    }
   ],
   "source": [
    "fgs_f090 = datalib.fg_spectra('f090')\n",
    "print(fgs_f090.keys())\n",
    "print(fgs_f090['ells'])"
   ]
  },
  {
   "cell_type": "markdown",
   "id": "db8dc6b0-140d-49a8-b602-3b0823338aca",
   "metadata": {},
   "source": [
    "#### Loading in the kSZ power spectrum (only `v1.1` and later) \n",
    "\n",
    "In `v1.1`, there is an option to load the total (frequency-independent) kSZ power spectrum apart from the other frequency-dependent foregrounds. The method `cl_ksz` takes a single optional argument, the `output_lmax` (same as above for the individual components), and returns two 1D arrays holding the multipoles and the kSZ power spectrum in units of $\\mu$K^2."
   ]
  },
  {
   "cell_type": "code",
   "execution_count": 10,
   "id": "82e244d0-f953-4f91-bb9a-a1c7199579d2",
   "metadata": {},
   "outputs": [
    {
     "name": "stdout",
     "output_type": "stream",
     "text": [
      "(40001,)\n"
     ]
    }
   ],
   "source": [
    "ksz_ells, cl_ksz = datalib.cl_ksz()\n",
    "print(cl_ksz.shape)"
   ]
  },
  {
   "cell_type": "markdown",
   "id": "548df8e8-88bf-4e5a-a40f-482663efdb40",
   "metadata": {},
   "source": [
    "### Coadded total residual foreround power spectrum\n",
    "\n",
    "The `coadded_fg_spectrum` method returns two 1D arrays: the multipoles, and the sum of the foreground components coadded over the two frequencies (in units of $\\mu$K$^2$). It takes a single optional argument, the `output_lmax` (same as above for the individual components)."
   ]
  },
  {
   "cell_type": "code",
   "execution_count": 11,
   "id": "56648619-9ced-4a61-961f-1aabcedb73f7",
   "metadata": {},
   "outputs": [
    {
     "name": "stdout",
     "output_type": "stream",
     "text": [
      "(40001,)\n"
     ]
    }
   ],
   "source": [
    "fg_ells, cl_fg = datalib.coadded_fg_spectrum()\n",
    "print(cl_fg.shape)"
   ]
  },
  {
   "cell_type": "markdown",
   "id": "21c8062a-633e-4d0e-ab17-ebf6c6789910",
   "metadata": {},
   "source": [
    "## Noise power spectra"
   ]
  },
  {
   "cell_type": "markdown",
   "id": "d13907f0-a580-43aa-8ac0-efd8910e6107",
   "metadata": {},
   "source": [
    "### Instrumental noise for $TT$, $TE$, $EE$, $BB$ at each frequency\n",
    "\n",
    "The method `white_noise_cls` returns a dictionary holding the beam-deconvolved instrumental noise power spectra at either 90 or 150 GHz. It takes in two arguments:\n",
    "1. `freq`: the frequency, either `'f090'` for 90 GHz or `'f150'` for 150 GHz.\n",
    "2. `output_lmax` (optional, default=`None`) : passing an integer value to `output_lmax` will return the spectra only up to that multipole, otherwise all multipoles are returned.\n",
    "\n",
    "The returned dictionary has keys `'ells'`, `'tt'`, `'te'`, `'ee'`, `'bb'`. The noise spectra are in units of $\\mu$K$^2$ in $C_\\ell$'s. "
   ]
  },
  {
   "cell_type": "code",
   "execution_count": 12,
   "id": "2ca37648-ec32-41d5-8209-fa1b6944fc02",
   "metadata": {},
   "outputs": [
    {
     "name": "stdout",
     "output_type": "stream",
     "text": [
      "dict_keys(['tt', 'te', 'ee', 'bb', 'ells'])\n"
     ]
    }
   ],
   "source": [
    "white_noise_f090 = datalib.white_noise_cls('f090')\n",
    "print(white_noise_f090.keys())"
   ]
  },
  {
   "cell_type": "markdown",
   "id": "9f8ad275-a85a-4418-a8c0-305e5f430f4e",
   "metadata": {},
   "source": [
    "### Coadded noise for $TT$, $TE$, $EE$, $BB$\n",
    "\n",
    "The method `cmb_noise_spectra` returns a dictionary holding the beam-deconvolved instrumental noise power spectra, coadded from 90 and 150 GHz. It takes in two optional arguments:\n",
    "1. `include_fg` (optional, default=`True`): Whether to include residual extragalactic foregrounds in the $TT$ noise power spectrum.\n",
    "2. `output_lmax` (optional, default=`None`) : passing an integer value to `output_lmax` will return the spectra only up to that multipole, otherwise all multipoles are returned.\n",
    "\n",
    "The returned dictionary has keys `'ells'`, `'tt'`, `'te'`, `'ee'`, `'bb'`. The noise spectra are in units of $\\mu$K$^2$ in $C_\\ell$'s. "
   ]
  },
  {
   "cell_type": "code",
   "execution_count": 13,
   "id": "91a6e355-dc29-4469-b5f7-7d3cf593682d",
   "metadata": {},
   "outputs": [
    {
     "name": "stdout",
     "output_type": "stream",
     "text": [
      "dict_keys(['ells', 'tt', 'te', 'ee', 'bb'])\n",
      "(40001,)\n"
     ]
    }
   ],
   "source": [
    "noise_cls = datalib.cmb_noise_spectra()\n",
    "print(noise_cls.keys())\n",
    "print(noise_cls['tt'].shape)"
   ]
  },
  {
   "cell_type": "markdown",
   "id": "d48b2f52-3f28-438e-899f-d0ef60122409",
   "metadata": {},
   "source": [
    "### Lensing noise\n",
    "\n",
    "The `lensing_noise_spectrum` spectrum returns two 1D arrays, `L` holding the multipoles and `nlkk` holding the noise on $C_L^{\\kappa\\kappa} = [L(L+1)]^2 C_L^{\\phi\\phi} / 4$.\n",
    "\n",
    "It takes in a single optional argument, `output_Lmax` (note the capital \"L\").\n",
    "\n",
    "Note that, as of `v1.1`, the lensing noise is only stored up to $L_\\mathrm{max} = 20,100$."
   ]
  },
  {
   "cell_type": "code",
   "execution_count": 14,
   "id": "0f80781a-ab8a-41d3-b951-06c51b976c51",
   "metadata": {},
   "outputs": [
    {
     "name": "stdout",
     "output_type": "stream",
     "text": [
      "(20101,)\n"
     ]
    }
   ],
   "source": [
    "L, nlkk = datalib.lensing_noise_spectrum()\n",
    "print(nlkk.shape)"
   ]
  },
  {
   "cell_type": "markdown",
   "id": "5308947d-48e1-40a3-aa0a-5b9b1b05b981",
   "metadata": {},
   "source": [
    "## Covariance matrices"
   ]
  },
  {
   "cell_type": "markdown",
   "id": "35b33c11-381d-446e-98c5-d510511423ee",
   "metadata": {},
   "source": [
    "### 5 x 5 block covariance matrices for $TT$, $TE$, $EE$, $BB$, $\\kappa\\kappa$ over the range $\\ell \\in [30, 20000]$\n",
    "\n",
    "The CMB-HD covariance matrices have shape $5n_\\mathrm{bin} \\times 5n_\\mathrm{bin}$, where $n_\\mathrm{bin}$ is the number of bins between $\\ell_\\mathrm{min} = 30$ and $\\ell_\\mathrm{max} = 20,100$. The full covariance matrix $\\mathbb{C}$ takes the form $$\\mathbb{C} = \\begin{pmatrix} \\mathbb{C}^{TT,TT} & \\mathbb{C}^{TT,TE} & \\cdots & \\mathbb{C}^{TT,\\kappa\\kappa} \\\\ \\mathbb{C}^{TE, TT} & \\mathbb{C}^{TE, TE} & \\cdots & \\mathbb{C}^{TE,\\kappa\\kappa} \\\\ \\vdots & \\vdots & \\ddots & \\vdots \\\\ \\mathbb{C}^{\\kappa\\kappa,TT} & \\mathbb{C}^{\\kappa\\kappa,TE} & \\cdots & \\mathbb{C}^{\\kappa\\kappa,\\kappa\\kappa} \\end{pmatrix},$$ where each block $\\mathbb{C}^{XY,WZ}$ has shape $n_\\mathrm{bin} \\times n_\\mathrm{bin}$, and $XY$ and $WZ$ are each one of $\\{TT,TE,EE,BB,\\kappa\\kappa\\}$. \n",
    "- The elements of the individual blocks are $\\mathbb{C}_{\\ell_b \\ell_b'}^{XY,WZ} = \\mathrm{cov}\\left(C_{\\ell_b}^{XY}, C_{\\ell_b'}^{WZ}\\right)$, where $\\ell_b$ and $\\ell_b'$ are multipole bin centers.\n",
    "- The order of blocks along the rows/columns is $TT$, $TE$, $EE$, $BB$, $\\kappa\\kappa$.\n",
    "- The CMB x CMB blocks have units of $\\mu$K$^4$, the CMB x lensing blocks have units of $\\mu$K$^2$, and the lensing x lensing block is dimensionless.\n",
    "\n",
    "\n",
    "The `block_covmat` method returns the binned block covariance matrix described above as a 2D array. It takes in a single argument, `cmb_type`, which should be either `'lensed'` or `'delensed'`. "
   ]
  },
  {
   "cell_type": "code",
   "execution_count": 15,
   "id": "85e3f584-91ee-49b7-8c87-ffa78f540231",
   "metadata": {},
   "outputs": [
    {
     "name": "stdout",
     "output_type": "stream",
     "text": [
      "(515, 515)\n"
     ]
    }
   ],
   "source": [
    "delensed_cov = datalib.block_covmat('delensed')\n",
    "print(delensed_cov.shape)"
   ]
  },
  {
   "cell_type": "markdown",
   "id": "9fa24fc6-7ba0-457a-89af-511ae48b3fdc",
   "metadata": {},
   "source": [
    "### Diagonal $TT \\times TT$ covariance matrix over the range $\\ell \\in (20000, 40000]$ (only `v1.1` and later) \n",
    "\n",
    "When extending $\\ell_\\mathrm{max}^{TT}$ to 40,000, we approximate the covariance matrix as diagonal in the range $\\ell \\in (20000, 40000]$, with $\\mathbb{C}_{\\ell_b \\ell_b'}^{TT,TT} = \\delta_{\\ell_b \\ell_b'} \\mathrm{var}(C_{\\ell_b}^{TT})$, using the same notation as above.\n",
    "\n",
    "The method `tt_diag_covmat` returns the binned $TT \\times TT$ covariance matrix in the range $\\ell \\in (20000, 40000]$. It takes in a single argument, `cmb_type`, which should be either `'lensed'` or `'delensed'`. "
   ]
  },
  {
   "cell_type": "code",
   "execution_count": 16,
   "id": "db77ea3f-f822-430c-a5d7-1b755c7ba400",
   "metadata": {},
   "outputs": [
    {
     "name": "stdout",
     "output_type": "stream",
     "text": [
      "(66, 66)\n"
     ]
    }
   ],
   "source": [
    "delensed_tt_cov = datalib.tt_diag_covmat('delensed')\n",
    "print(delensed_tt_cov.shape)"
   ]
  },
  {
   "cell_type": "markdown",
   "id": "4dcaa50c-b249-453e-8258-eeed06c903a2",
   "metadata": {},
   "source": [
    "---\n",
    "\n",
    "## Fixing the data version\n",
    "\n",
    "You may access older versions of the data by passing the correct `version`. \n",
    "- __Note__: this should only be done to reproduce published results that were obtained using a previous version of the data.\n",
    "\n",
    "For example, to access the data used in [MacInnis, Sehgal, and Rothermel (2023)](https://arxiv.org/abs/2309.03021), use `version='v1.0'`:"
   ]
  },
  {
   "cell_type": "code",
   "execution_count": 17,
   "id": "31671192-2d2a-4d03-8f9b-06384f66d5e8",
   "metadata": {},
   "outputs": [
    {
     "name": "stdout",
     "output_type": "stream",
     "text": [
      "For version v1.0:\n",
      "lmin for TT, TE, EE, BB: 30\n",
      "lmax for TT: 20100\n",
      "lmax for TE, EE, BB: 20100\n",
      "(Lmin, Lmax) for lensing: (30, 20100)\n"
     ]
    }
   ],
   "source": [
    "datalib_fixed_version = hd_data.HDMockData(version='v1.0')\n",
    "print(f'For version {datalib_fixed_version.version}:')\n",
    "print(f'lmin for TT, TE, EE, BB: {datalib_fixed_version.lmin}')\n",
    "print(f'lmax for TT: {datalib_fixed_version.lmaxTT}')\n",
    "print(f'lmax for TE, EE, BB: {datalib_fixed_version.lmax}')\n",
    "print(f'(Lmin, Lmax) for lensing: ({datalib_fixed_version.Lmin}, {datalib_fixed_version.Lmax})')"
   ]
  },
  {
   "cell_type": "code",
   "execution_count": null,
   "id": "b140ef6c-fab4-46e9-8920-50949e1968cd",
   "metadata": {},
   "outputs": [],
   "source": []
  }
 ],
 "metadata": {
  "kernelspec": {
   "display_name": "pyenv",
   "language": "python",
   "name": "pyenv"
  },
  "language_info": {
   "codemirror_mode": {
    "name": "ipython",
    "version": 3
   },
   "file_extension": ".py",
   "mimetype": "text/x-python",
   "name": "python",
   "nbconvert_exporter": "python",
   "pygments_lexer": "ipython3",
   "version": "3.6.13"
  }
 },
 "nbformat": 4,
 "nbformat_minor": 5
}
